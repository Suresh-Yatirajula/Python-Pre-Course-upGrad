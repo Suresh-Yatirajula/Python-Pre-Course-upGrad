{
  "nbformat": 4,
  "nbformat_minor": 0,
  "metadata": {
    "colab": {
      "name": "Comprehensions.ipynb",
      "version": "0.3.2",
      "provenance": [],
      "include_colab_link": true
    },
    "language_info": {
      "codemirror_mode": {
        "name": "ipython",
        "version": 3
      },
      "file_extension": ".py",
      "mimetype": "text/x-python",
      "name": "python",
      "nbconvert_exporter": "python",
      "pygments_lexer": "ipython3",
      "version": "3.5.2"
    },
    "kernelspec": {
      "name": "python3",
      "display_name": "Python 3"
    }
  },
  "cells": [
    {
      "cell_type": "markdown",
      "metadata": {
        "id": "view-in-github",
        "colab_type": "text"
      },
      "source": [
        "<a href=\"https://colab.research.google.com/github/Suresh-Yatirajula/Python-Pre-Course-upGrad/blob/master/Comprehensions.ipynb\" target=\"_parent\"><img src=\"https://colab.research.google.com/assets/colab-badge.svg\" alt=\"Open In Colab\"/></a>"
      ]
    },
    {
      "cell_type": "code",
      "metadata": {
        "id": "xHogAm2HEuMW",
        "colab_type": "code",
        "colab": {
          "base_uri": "https://localhost:8080/",
          "height": 34
        },
        "outputId": "2e9b69c9-c7cb-47b0-b749-62c22544d791"
      },
      "source": [
        "squares_list= []\n",
        "\n",
        "for x in range(1,10):\n",
        "    squares_list.append(x**2)\n",
        "print(squares_list)\n"
      ],
      "execution_count": 1,
      "outputs": [
        {
          "output_type": "stream",
          "text": [
            "[1, 4, 9, 16, 25, 36, 49, 64, 81]\n"
          ],
          "name": "stdout"
        }
      ]
    },
    {
      "cell_type": "code",
      "metadata": {
        "id": "v1lD5ugPEuMc",
        "colab_type": "code",
        "colab": {
          "base_uri": "https://localhost:8080/",
          "height": 34
        },
        "outputId": "7af4a0cf-59b6-466c-c996-b288b257b6be"
      },
      "source": [
        "squares_list = [x**2 for x in range(1,10)]\n",
        "print(squares_list)"
      ],
      "execution_count": 2,
      "outputs": [
        {
          "output_type": "stream",
          "text": [
            "[1, 4, 9, 16, 25, 36, 49, 64, 81]\n"
          ],
          "name": "stdout"
        }
      ]
    },
    {
      "cell_type": "code",
      "metadata": {
        "id": "kznbpJGFEuMf",
        "colab_type": "code",
        "colab": {}
      },
      "source": [
        "paragraph = [\"There was a fox.\" , 'It was brown in color.', \"It was seen near that farm sometime back\"]"
      ],
      "execution_count": 0,
      "outputs": []
    },
    {
      "cell_type": "code",
      "metadata": {
        "id": "7Q0l2nmzEuMi",
        "colab_type": "code",
        "colab": {}
      },
      "source": [
        "# ['There', 'was', 'a', 'fox.', 'It', 'was', 'brown', 'in', 'color.', 'It', 'was', 'seen', 'near', 'that', 'farm', 'sometime', 'back']"
      ],
      "execution_count": 0,
      "outputs": []
    },
    {
      "cell_type": "code",
      "metadata": {
        "id": "bB29dwFBEuMl",
        "colab_type": "code",
        "colab": {
          "base_uri": "https://localhost:8080/",
          "height": 34
        },
        "outputId": "773cb8ec-b9c0-4f94-fea8-c293bd3cac96"
      },
      "source": [
        "single_word_list =[]\n",
        "\n",
        "for sentence in paragraph:\n",
        "    for word in sentence.split():\n",
        "        single_word_list.append(word)\n",
        "\n",
        "print(single_word_list)"
      ],
      "execution_count": 4,
      "outputs": [
        {
          "output_type": "stream",
          "text": [
            "['There', 'was', 'a', 'fox.', 'It', 'was', 'brown', 'in', 'color.', 'It', 'was', 'seen', 'near', 'that', 'farm', 'sometime', 'back']\n"
          ],
          "name": "stdout"
        }
      ]
    },
    {
      "cell_type": "code",
      "metadata": {
        "id": "C2ArHIUJEuMn",
        "colab_type": "code",
        "colab": {
          "base_uri": "https://localhost:8080/",
          "height": 34
        },
        "outputId": "27bf68e4-577e-4727-ac0d-0be990fb3d26"
      },
      "source": [
        "single_word_list  = [word for sentence in paragraph for word in sentence.split()]\n",
        "print(single_word_list)"
      ],
      "execution_count": 5,
      "outputs": [
        {
          "output_type": "stream",
          "text": [
            "['There', 'was', 'a', 'fox.', 'It', 'was', 'brown', 'in', 'color.', 'It', 'was', 'seen', 'near', 'that', 'farm', 'sometime', 'back']\n"
          ],
          "name": "stdout"
        }
      ]
    },
    {
      "cell_type": "code",
      "metadata": {
        "id": "GQw3zhMFEuMq",
        "colab_type": "code",
        "colab": {
          "base_uri": "https://localhost:8080/",
          "height": 34
        },
        "outputId": "41dab588-fec2-46bd-b758-9c377cb8ef7a"
      },
      "source": [
        "#list comp with if statement\n",
        "vowels = ['a','e','i','o','u']\n",
        "vowels_from_sentence =[]\n",
        "for sentence in paragraph:\n",
        "    for word in sentence.split():\n",
        "        if word[0].lower() in vowels:\n",
        "            vowels_from_sentence.append(word)\n",
        "\n",
        "print(vowels_from_sentence)\n"
      ],
      "execution_count": 6,
      "outputs": [
        {
          "output_type": "stream",
          "text": [
            "['a', 'It', 'in', 'It']\n"
          ],
          "name": "stdout"
        }
      ]
    },
    {
      "cell_type": "code",
      "metadata": {
        "id": "YOeUNsWdEuMs",
        "colab_type": "code",
        "colab": {}
      },
      "source": [
        "#[ for sentence in paragraph]\n",
        "#[ for sentence in paragraph for word in sentence.split()]\n"
      ],
      "execution_count": 0,
      "outputs": []
    },
    {
      "cell_type": "code",
      "metadata": {
        "id": "ZdQvaDx5EuMv",
        "colab_type": "code",
        "colab": {
          "base_uri": "https://localhost:8080/",
          "height": 34
        },
        "outputId": "5bf9c478-1f02-42a6-8205-d169ac5c48a1"
      },
      "source": [
        "vowels_comp = [word for sentence in paragraph for word in sentence.split() if word[0].lower() in vowels]\n",
        "print(vowels_comp)"
      ],
      "execution_count": 7,
      "outputs": [
        {
          "output_type": "stream",
          "text": [
            "['a', 'It', 'in', 'It']\n"
          ],
          "name": "stdout"
        }
      ]
    },
    {
      "cell_type": "code",
      "metadata": {
        "id": "Zmj2LLFwEuMz",
        "colab_type": "code",
        "colab": {
          "base_uri": "https://localhost:8080/",
          "height": 54
        },
        "outputId": "e0092ed7-2bae-4dda-a6f5-69e51d2b5700"
      },
      "source": [
        "squared_dictionary = {num : num**2 for num in range(0, 25)}\n",
        "print(squared_dictionary)"
      ],
      "execution_count": 8,
      "outputs": [
        {
          "output_type": "stream",
          "text": [
            "{0: 0, 1: 1, 2: 4, 3: 9, 4: 16, 5: 25, 6: 36, 7: 49, 8: 64, 9: 81, 10: 100, 11: 121, 12: 144, 13: 169, 14: 196, 15: 225, 16: 256, 17: 289, 18: 324, 19: 361, 20: 400, 21: 441, 22: 484, 23: 529, 24: 576}\n"
          ],
          "name": "stdout"
        }
      ]
    },
    {
      "cell_type": "code",
      "metadata": {
        "id": "kKhjbX-eEuM2",
        "colab_type": "code",
        "colab": {}
      },
      "source": [
        "students_data = {1:['Shivam Bansal', 24] , 2:['Udit Bansal',25], 3:['Sonam Gupta', 26], 4:['Saif Ansari',24], 5:['Huzefa Calcuttawala',27]}\n"
      ],
      "execution_count": 0,
      "outputs": []
    },
    {
      "cell_type": "code",
      "metadata": {
        "id": "GSsL30I7EuM5",
        "colab_type": "code",
        "colab": {
          "base_uri": "https://localhost:8080/",
          "height": 34
        },
        "outputId": "90298fb5-8209-4e12-e8fb-a07bb24d7698"
      },
      "source": [
        "names_dict ={}\n",
        "\n",
        "#iterate over each key, val pair\n",
        "for roll_num,details in students_data.items():\n",
        "    if roll_num%2==0:\n",
        "        names_dict[roll_num]= details[0]\n",
        "print(names_dict)"
      ],
      "execution_count": 12,
      "outputs": [
        {
          "output_type": "stream",
          "text": [
            "{2: 'Udit Bansal', 4: 'Saif Ansari'}\n"
          ],
          "name": "stdout"
        }
      ]
    },
    {
      "cell_type": "code",
      "metadata": {
        "id": "nxJZQ9ZbEuM7",
        "colab_type": "code",
        "colab": {
          "base_uri": "https://localhost:8080/",
          "height": 34
        },
        "outputId": "16585be2-bf7c-4535-cac6-c2f05e78091c"
      },
      "source": [
        "names_comp = {roll_num:details[0] for roll_num,details in students_data.items() if roll_num%2==0}\n",
        "print(names_comp)"
      ],
      "execution_count": 13,
      "outputs": [
        {
          "output_type": "stream",
          "text": [
            "{2: 'Udit Bansal', 4: 'Saif Ansari'}\n"
          ],
          "name": "stdout"
        }
      ]
    }
  ]
}