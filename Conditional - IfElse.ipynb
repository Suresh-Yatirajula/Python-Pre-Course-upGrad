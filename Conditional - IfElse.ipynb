{
  "nbformat": 4,
  "nbformat_minor": 0,
  "metadata": {
    "colab": {
      "name": "Conditional - IfElse.ipynb",
      "version": "0.3.2",
      "provenance": [],
      "include_colab_link": true
    },
    "language_info": {
      "codemirror_mode": {
        "name": "ipython",
        "version": 3
      },
      "file_extension": ".py",
      "mimetype": "text/x-python",
      "name": "python",
      "nbconvert_exporter": "python",
      "pygments_lexer": "ipython3",
      "version": "3.5.2"
    },
    "kernelspec": {
      "display_name": "Python 3",
      "language": "python",
      "name": "python3"
    }
  },
  "cells": [
    {
      "cell_type": "markdown",
      "metadata": {
        "id": "view-in-github",
        "colab_type": "text"
      },
      "source": [
        "<a href=\"https://colab.research.google.com/github/Suresh-Yatirajula/Python-Pre-Course-upGrad/blob/master/Conditional%20-%20IfElse.ipynb\" target=\"_parent\"><img src=\"https://colab.research.google.com/assets/colab-badge.svg\" alt=\"Open In Colab\"/></a>"
      ]
    },
    {
      "cell_type": "code",
      "metadata": {
        "id": "h222V0bKnwEF",
        "colab_type": "code",
        "colab": {
          "base_uri": "https://localhost:8080/",
          "height": 34
        },
        "outputId": "2d7f3493-be84-4bcd-c87c-4ace4acb3656"
      },
      "source": [
        "score = int(input(\"Enter your test score : \"))\n",
        "passing = 40\n",
        "distinction = 90\n"
      ],
      "execution_count": 1,
      "outputs": [
        {
          "output_type": "stream",
          "text": [
            "Enter your test score : 100\n"
          ],
          "name": "stdout"
        }
      ]
    },
    {
      "cell_type": "code",
      "metadata": {
        "id": "hZXNHiYKnwEK",
        "colab_type": "code",
        "colab": {
          "base_uri": "https://localhost:8080/",
          "height": 34
        },
        "outputId": "bd877e2f-01c0-40c6-afa0-a547d6fd938a"
      },
      "source": [
        "if score >= distinction:\n",
        "    print(\"You're at the top! You’ve earned a distinction!\")\n",
        "\n",
        "if score >= passing and score < distinction:\n",
        "    print(\"You have passed!\")\n",
        "\n",
        "if score < passing:\n",
        "    print(\"Sorry! You have failed\")\n"
      ],
      "execution_count": 2,
      "outputs": [
        {
          "output_type": "stream",
          "text": [
            "You're at the top! You’ve earned a distinction!\n"
          ],
          "name": "stdout"
        }
      ]
    },
    {
      "cell_type": "code",
      "metadata": {
        "id": "_d00FzEjnwEO",
        "colab_type": "code",
        "colab": {
          "base_uri": "https://localhost:8080/",
          "height": 34
        },
        "outputId": "ba486e34-b5f2-4d75-88da-2630941f5728"
      },
      "source": [
        "if score==100:\n",
        "    print(\"Perfect\")\n",
        "elif  90<=score<100:\n",
        "    print(\"Distinction\")\n",
        "elif 65<=score<90:\n",
        "    print(\"First Class\")\n",
        "elif 40<=score<65:\n",
        "    print(\"Second Class\")\n",
        "else:\n",
        "    print(\"Failed\")\n"
      ],
      "execution_count": 3,
      "outputs": [
        {
          "output_type": "stream",
          "text": [
            "Perfect\n"
          ],
          "name": "stdout"
        }
      ]
    },
    {
      "cell_type": "code",
      "metadata": {
        "id": "-xqOyiaanwER",
        "colab_type": "code",
        "colab": {
          "base_uri": "https://localhost:8080/",
          "height": 34
        },
        "outputId": "42f76d1b-9de4-4e1a-96a4-838e2d9b00a9"
      },
      "source": [
        "statement = \"The coffee is bad\"\n",
        "if 'bad' in statement:\n",
        "    print(\"Bad review!\")\n",
        "\n",
        "statement2 = \"This phone works great\"\n",
        "if 'bad' in statement2:\n",
        "    print(\"This is not a bad review\")\n"
      ],
      "execution_count": 4,
      "outputs": [
        {
          "output_type": "stream",
          "text": [
            "Bad review!\n"
          ],
          "name": "stdout"
        }
      ]
    },
    {
      "cell_type": "code",
      "metadata": {
        "id": "tUDrnJdknwEU",
        "colab_type": "code",
        "colab": {
          "base_uri": "https://localhost:8080/",
          "height": 67
        },
        "outputId": "eefb3c35-ccbd-4f99-ad5d-5b154867c673"
      },
      "source": [
        "num = int(input(\"Enter a number: \"))\n",
        "#enter 24\n",
        "if num%2==0:\n",
        "    print(\"Even\")\n",
        "    if num%4==0:\n",
        "        print(\"divisible by 4\")\n",
        "    else:\n",
        "        print(\"Not divisible by 4\")\n",
        "else:\n",
        "    print(\"Odd\")\n",
        "    if num%3==0:\n",
        "        print(\"Divisible by 3\")\n",
        "    else:\n",
        "        print(\"Not divisible by 3\")\n"
      ],
      "execution_count": 5,
      "outputs": [
        {
          "output_type": "stream",
          "text": [
            "Enter a number: 10\n",
            "Even\n",
            "Not divisible by 4\n"
          ],
          "name": "stdout"
        }
      ]
    },
    {
      "cell_type": "code",
      "metadata": {
        "id": "sYfsFp7_nwEW",
        "colab_type": "code",
        "colab": {
          "base_uri": "https://localhost:8080/",
          "height": 34
        },
        "outputId": "633e6ff3-4217-4615-8455-ea4d2bac987d"
      },
      "source": [
        "if None:\n",
        "    print(\"Is True\")\n",
        "else:\n",
        "    print(\"Is False\")"
      ],
      "execution_count": 6,
      "outputs": [
        {
          "output_type": "stream",
          "text": [
            "Is False\n"
          ],
          "name": "stdout"
        }
      ]
    }
  ]
}