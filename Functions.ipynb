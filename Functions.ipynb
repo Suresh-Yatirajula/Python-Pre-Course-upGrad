{
  "nbformat": 4,
  "nbformat_minor": 0,
  "metadata": {
    "colab": {
      "name": "Functions.ipynb",
      "version": "0.3.2",
      "provenance": [],
      "include_colab_link": true
    },
    "language_info": {
      "codemirror_mode": {
        "name": "ipython",
        "version": 3
      },
      "file_extension": ".py",
      "mimetype": "text/x-python",
      "name": "python",
      "nbconvert_exporter": "python",
      "pygments_lexer": "ipython3",
      "version": "3.5.2"
    },
    "kernelspec": {
      "display_name": "Python 3",
      "language": "python",
      "name": "python3"
    }
  },
  "cells": [
    {
      "cell_type": "markdown",
      "metadata": {
        "id": "view-in-github",
        "colab_type": "text"
      },
      "source": [
        "<a href=\"https://colab.research.google.com/github/Suresh-Yatirajula/Python-Pre-Course-upGrad/blob/master/Functions.ipynb\" target=\"_parent\"><img src=\"https://colab.research.google.com/assets/colab-badge.svg\" alt=\"Open In Colab\"/></a>"
      ]
    },
    {
      "cell_type": "code",
      "metadata": {
        "id": "Wc-Oya_PM2T6",
        "colab_type": "code",
        "colab": {
          "base_uri": "https://localhost:8080/",
          "height": 34
        },
        "outputId": "4dcd64de-0cc9-479a-8798-66fd3e7d25d1"
      },
      "source": [
        "def scream():\n",
        "    print('Hello World')\n",
        "scream()\n"
      ],
      "execution_count": 7,
      "outputs": [
        {
          "output_type": "stream",
          "text": [
            "Hello World\n"
          ],
          "name": "stdout"
        }
      ]
    },
    {
      "cell_type": "code",
      "metadata": {
        "id": "DEyunLu2M2T-",
        "colab_type": "code",
        "colab": {}
      },
      "source": [
        "def square(num):\n",
        "    out = num**2\n",
        "    return(out)\n"
      ],
      "execution_count": 0,
      "outputs": []
    },
    {
      "cell_type": "code",
      "metadata": {
        "id": "MWWIj-hfM2UC",
        "colab_type": "code",
        "colab": {
          "base_uri": "https://localhost:8080/",
          "height": 34
        },
        "outputId": "22b2acb2-e5da-4863-d1b3-38beb89531a9"
      },
      "source": [
        "sq_3 = square(3)\n",
        "print(sq_3)"
      ],
      "execution_count": 9,
      "outputs": [
        {
          "output_type": "stream",
          "text": [
            "9\n"
          ],
          "name": "stdout"
        }
      ]
    },
    {
      "cell_type": "code",
      "metadata": {
        "id": "DC2WSdMTM2UE",
        "colab_type": "code",
        "colab": {}
      },
      "source": [
        "def square(num):\n",
        "    out = num**2\n",
        "    print(out)\n"
      ],
      "execution_count": 0,
      "outputs": []
    },
    {
      "cell_type": "code",
      "metadata": {
        "id": "QEJ9p4tDM2UH",
        "colab_type": "code",
        "colab": {
          "base_uri": "https://localhost:8080/",
          "height": 50
        },
        "outputId": "0bd098e8-7ba8-47af-b835-544a70571e9f"
      },
      "source": [
        "q = square(4)\n",
        "print(\"Q is\"+str(q))\n"
      ],
      "execution_count": 11,
      "outputs": [
        {
          "output_type": "stream",
          "text": [
            "16\n",
            "Q isNone\n"
          ],
          "name": "stdout"
        }
      ]
    },
    {
      "cell_type": "code",
      "metadata": {
        "id": "-RBX4p0-M2UK",
        "colab_type": "code",
        "colab": {
          "base_uri": "https://localhost:8080/",
          "height": 34
        },
        "outputId": "3af92dad-c38d-4490-e04e-b13692a3e60e"
      },
      "source": [
        "def factorial(n):\n",
        "    if n>1:\n",
        "        return n*factorial(n-1)\n",
        "    else:\n",
        "        return n\n",
        "\n",
        "fact = factorial(5)\n",
        "print(fact)\n"
      ],
      "execution_count": 12,
      "outputs": [
        {
          "output_type": "stream",
          "text": [
            "120\n"
          ],
          "name": "stdout"
        }
      ]
    },
    {
      "cell_type": "code",
      "metadata": {
        "id": "l4PgXYsYM2UN",
        "colab_type": "code",
        "colab": {}
      },
      "source": [
        "def addition(*args):\n",
        "    print(args)\n",
        "    return(sum(args))\n"
      ],
      "execution_count": 0,
      "outputs": []
    },
    {
      "cell_type": "code",
      "metadata": {
        "id": "RxIiNIsWM2UQ",
        "colab_type": "code",
        "colab": {
          "base_uri": "https://localhost:8080/",
          "height": 84
        },
        "outputId": "f29f51e4-5c92-427b-9fcf-b9e8d8ab3950"
      },
      "source": [
        "print(addition(4,5,6,7,8,9))\n",
        "print(addition(1,2))"
      ],
      "execution_count": 14,
      "outputs": [
        {
          "output_type": "stream",
          "text": [
            "(4, 5, 6, 7, 8, 9)\n",
            "39\n",
            "(1, 2)\n",
            "3\n"
          ],
          "name": "stdout"
        }
      ]
    },
    {
      "cell_type": "code",
      "metadata": {
        "id": "GySGJMh4M2UT",
        "colab_type": "code",
        "colab": {
          "base_uri": "https://localhost:8080/",
          "height": 34
        },
        "outputId": "6ba51d70-2507-4a52-9e9f-cc208a51c6db"
      },
      "source": [
        "def proper(some_text):\n",
        "    some_text = some_text.strip()\n",
        "    some_text = \" \".join([word[0].upper() + word[1:] for word in some_text.split()])\n",
        "    return some_text\n",
        "\n",
        "captain = proper(\"mahendra singh dhoni\")\n",
        "print(captain)\n"
      ],
      "execution_count": 15,
      "outputs": [
        {
          "output_type": "stream",
          "text": [
            "Mahendra Singh Dhoni\n"
          ],
          "name": "stdout"
        }
      ]
    },
    {
      "cell_type": "code",
      "metadata": {
        "id": "Pa_m2VB7M2UY",
        "colab_type": "code",
        "colab": {
          "base_uri": "https://localhost:8080/",
          "height": 50
        },
        "outputId": "5f67e0b6-5d2c-4605-ddc2-a61f848f6c54"
      },
      "source": [
        "string_to_list = lambda x: x.split()\n",
        "print(string_to_list(captain))\n",
        "print(type(string_to_list))\n"
      ],
      "execution_count": 16,
      "outputs": [
        {
          "output_type": "stream",
          "text": [
            "['Mahendra', 'Singh', 'Dhoni']\n",
            "<class 'function'>\n"
          ],
          "name": "stdout"
        }
      ]
    },
    {
      "cell_type": "code",
      "metadata": {
        "id": "43Y2iTI8M2Ub",
        "colab_type": "code",
        "colab": {
          "base_uri": "https://localhost:8080/",
          "height": 34
        },
        "outputId": "9d5e92ea-c687-49e0-d55e-207da213b8cc"
      },
      "source": [
        "product = lambda x, y : x*y\n",
        "print(product(3,4))\n"
      ],
      "execution_count": 17,
      "outputs": [
        {
          "output_type": "stream",
          "text": [
            "12\n"
          ],
          "name": "stdout"
        }
      ]
    },
    {
      "cell_type": "code",
      "metadata": {
        "id": "VRC23fQDM2Ue",
        "colab_type": "code",
        "colab": {
          "base_uri": "https://localhost:8080/",
          "height": 50
        },
        "outputId": "5519250e-c791-4443-ad8f-d81f1aa7ccc0"
      },
      "source": [
        "def say(message, times = 1):\n",
        "    print(message * times)\n",
        "\n",
        "say('Hello')\n",
        "say('World', 5)"
      ],
      "execution_count": 18,
      "outputs": [
        {
          "output_type": "stream",
          "text": [
            "Hello\n",
            "WorldWorldWorldWorldWorld\n"
          ],
          "name": "stdout"
        }
      ]
    }
  ]
}