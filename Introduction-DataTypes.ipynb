{
  "nbformat": 4,
  "nbformat_minor": 0,
  "metadata": {
    "colab": {
      "name": "Introduction-DataTypes.ipynb",
      "version": "0.3.2",
      "provenance": [],
      "include_colab_link": true
    },
    "language_info": {
      "codemirror_mode": {
        "name": "ipython",
        "version": 3
      },
      "file_extension": ".py",
      "mimetype": "text/x-python",
      "name": "python",
      "nbconvert_exporter": "python",
      "pygments_lexer": "ipython3",
      "version": "3.5.2"
    },
    "kernelspec": {
      "display_name": "Python 3",
      "language": "python",
      "name": "python3"
    }
  },
  "cells": [
    {
      "cell_type": "markdown",
      "metadata": {
        "id": "view-in-github",
        "colab_type": "text"
      },
      "source": [
        "<a href=\"https://colab.research.google.com/github/Suresh-Yatirajula/Python-Pre-Course-upGrad/blob/master/Introduction-DataTypes.ipynb\" target=\"_parent\"><img src=\"https://colab.research.google.com/assets/colab-badge.svg\" alt=\"Open In Colab\"/></a>"
      ]
    },
    {
      "cell_type": "code",
      "metadata": {
        "id": "YTFdagk00ziT",
        "colab_type": "code",
        "outputId": "867b0213-1517-4129-d18e-2f7a3221ce58",
        "colab": {
          "base_uri": "https://localhost:8080/",
          "height": 34
        }
      },
      "source": [
        "print(\"This is my first line of code in python\")"
      ],
      "execution_count": 0,
      "outputs": [
        {
          "output_type": "stream",
          "text": [
            "This is my first line of code in python\n"
          ],
          "name": "stdout"
        }
      ]
    },
    {
      "cell_type": "code",
      "metadata": {
        "id": "GIvpzoov0ziX",
        "colab_type": "code",
        "outputId": "53613001-c702-4c50-f76a-f5c53bd0fc40",
        "colab": {
          "base_uri": "https://localhost:8080/",
          "height": 50
        }
      },
      "source": [
        "print(\"Hello\\nThis is in the next line\")"
      ],
      "execution_count": 0,
      "outputs": [
        {
          "output_type": "stream",
          "text": [
            "Hello\n",
            "This is in the next line\n"
          ],
          "name": "stdout"
        }
      ]
    },
    {
      "cell_type": "code",
      "metadata": {
        "id": "VuuetGYo0zia",
        "colab_type": "code",
        "outputId": "ec92edfd-d07e-42c1-c18f-57bdc3c754e3",
        "colab": {
          "base_uri": "https://localhost:8080/",
          "height": 134
        }
      },
      "source": [
        "a = 6\n",
        "b = 7\n",
        "\n",
        "print(a + b)  \n",
        "print(a - b) \n",
        "print(a * b) \n",
        "print(a / b)\n",
        "print(a // b)\n",
        "print(a % b) \n",
        "print(a ** b)"
      ],
      "execution_count": 5,
      "outputs": [
        {
          "output_type": "stream",
          "text": [
            "13\n",
            "-1\n",
            "42\n",
            "0.8571428571428571\n",
            "0\n",
            "6\n",
            "279936\n"
          ],
          "name": "stdout"
        }
      ]
    },
    {
      "cell_type": "code",
      "metadata": {
        "id": "0UKnu6lc0zid",
        "colab_type": "code",
        "outputId": "843620e4-0ec2-42b8-dec2-fc9fc3d9f674",
        "colab": {
          "base_uri": "https://localhost:8080/",
          "height": 34
        }
      },
      "source": [
        "#BEDMAS\n",
        "print(4 * 5 - 9 + 6 / 7)"
      ],
      "execution_count": 0,
      "outputs": [
        {
          "output_type": "stream",
          "text": [
            "11.857142857142858\n"
          ],
          "name": "stdout"
        }
      ]
    },
    {
      "cell_type": "code",
      "metadata": {
        "id": "L9ucRjTp0zif",
        "colab_type": "code",
        "outputId": "031cd271-e394-45fc-9371-da30a92a1ca4",
        "colab": {
          "base_uri": "https://localhost:8080/",
          "height": 50
        }
      },
      "source": [
        "inc = 9\n",
        "inc += 1\n",
        "print(inc)\n",
        "inc -= 1\n",
        "print(inc)"
      ],
      "execution_count": 0,
      "outputs": [
        {
          "output_type": "stream",
          "text": [
            "10\n",
            "9\n"
          ],
          "name": "stdout"
        }
      ]
    },
    {
      "cell_type": "code",
      "metadata": {
        "id": "TLruWIRT0zii",
        "colab_type": "code",
        "outputId": "894af960-1f8b-464a-f211-8253a0ac621f",
        "colab": {
          "base_uri": "https://localhost:8080/",
          "height": 101
        }
      },
      "source": [
        "#Logical\n",
        "print(3 < 4)\n",
        "print(True and False) \n",
        "print(True or False)\n",
        "print(a!=b) \n",
        "print(True and not False)"
      ],
      "execution_count": 0,
      "outputs": [
        {
          "output_type": "stream",
          "text": [
            "True\n",
            "False\n",
            "True\n",
            "True\n",
            "True\n"
          ],
          "name": "stdout"
        }
      ]
    },
    {
      "cell_type": "code",
      "metadata": {
        "id": "xXdngnhU0zik",
        "colab_type": "code",
        "outputId": "ee87c2ab-8a00-4e43-fa03-db896a670d12",
        "colab": {
          "base_uri": "https://localhost:8080/",
          "height": 50
        }
      },
      "source": [
        "small = \"i am upper cased\"\n",
        "print(small.upper())\n",
        "\n",
        "large = \"I AM LOWER CASED\"\n",
        "print(large.lower())\n"
      ],
      "execution_count": 0,
      "outputs": [
        {
          "output_type": "stream",
          "text": [
            "I AM UPPER CASED\n",
            "i am lower cased\n"
          ],
          "name": "stdout"
        }
      ]
    },
    {
      "cell_type": "code",
      "metadata": {
        "id": "jgKqbqmY0zin",
        "colab_type": "code",
        "outputId": "f98bc7ef-de39-4255-ecea-7838a9feaa4e",
        "colab": {
          "base_uri": "https://localhost:8080/",
          "height": 50
        }
      },
      "source": [
        "some_sentence = \"There is a space at the end    \"\n",
        "print(some_sentence)\n",
        "print(some_sentence.rstrip())\n"
      ],
      "execution_count": 0,
      "outputs": [
        {
          "output_type": "stream",
          "text": [
            "There is a space at the end    \n",
            "There is a space at the end\n"
          ],
          "name": "stdout"
        }
      ]
    },
    {
      "cell_type": "code",
      "metadata": {
        "id": "xMpV-lwI0ziq",
        "colab_type": "code",
        "outputId": "1bb2d8dc-94da-4b8d-948b-e78dad13d1c0",
        "colab": {
          "base_uri": "https://localhost:8080/",
          "height": 34
        }
      },
      "source": [
        "increment = '4%'\n",
        "print(increment.rstrip('%')) "
      ],
      "execution_count": 0,
      "outputs": [
        {
          "output_type": "stream",
          "text": [
            "4\n"
          ],
          "name": "stdout"
        }
      ]
    },
    {
      "cell_type": "code",
      "metadata": {
        "id": "X7h12JZm0ziu",
        "colab_type": "code",
        "outputId": "00c9d72a-3922-4987-fede-40d1adc3cebe",
        "colab": {
          "base_uri": "https://localhost:8080/",
          "height": 50
        }
      },
      "source": [
        "start = \"   There is space at the start\"\n",
        "print(start)\n",
        "print(start.lstrip())"
      ],
      "execution_count": 0,
      "outputs": [
        {
          "output_type": "stream",
          "text": [
            "   There is space at the start\n",
            "There is space at the start\n"
          ],
          "name": "stdout"
        }
      ]
    },
    {
      "cell_type": "code",
      "metadata": {
        "id": "KLU03r8K0ziz",
        "colab_type": "code",
        "outputId": "14586570-144c-42c5-fa79-4a6755e61799",
        "colab": {
          "base_uri": "https://localhost:8080/",
          "height": 50
        }
      },
      "source": [
        "spaces = \"   Trim whitespaces  \"\n",
        "print(spaces)\n",
        "print(spaces.strip())"
      ],
      "execution_count": 0,
      "outputs": [
        {
          "output_type": "stream",
          "text": [
            "   Trim whitespaces  \n",
            "Trim whitespaces\n"
          ],
          "name": "stdout"
        }
      ]
    },
    {
      "cell_type": "code",
      "metadata": {
        "id": "CpT20BHC0zi3",
        "colab_type": "code",
        "outputId": "596addd8-a645-4e50-e379-b1e46a0c7140",
        "colab": {
          "base_uri": "https://localhost:8080/",
          "height": 34
        }
      },
      "source": [
        "num_with_chars = '*444#'\n",
        "print(num_with_chars.rstrip('#').lstrip('*'))"
      ],
      "execution_count": 0,
      "outputs": [
        {
          "output_type": "stream",
          "text": [
            "444\n"
          ],
          "name": "stdout"
        }
      ]
    },
    {
      "cell_type": "code",
      "metadata": {
        "id": "_daT90v10zi6",
        "colab_type": "code",
        "outputId": "6f0de84c-4cbd-4982-baeb-ae3a08870eab",
        "colab": {
          "base_uri": "https://localhost:8080/",
          "height": 34
        }
      },
      "source": [
        "val = \"2 apples\"\n",
        "no_of_apples = val[0] \n",
        "print('number of apples is', no_of_apples)\n"
      ],
      "execution_count": 2,
      "outputs": [
        {
          "output_type": "stream",
          "text": [
            "number of apples is 2\n"
          ],
          "name": "stdout"
        }
      ]
    },
    {
      "cell_type": "code",
      "metadata": {
        "id": "X4Tgt7Cw0zi8",
        "colab_type": "code",
        "outputId": "4659bc4f-7c61-4d54-9a36-6b8383591f87",
        "colab": {
          "base_uri": "https://localhost:8080/",
          "height": 50
        }
      },
      "source": [
        "what = val[2:]\n",
        "print(what)\n",
        "len(what)"
      ],
      "execution_count": 6,
      "outputs": [
        {
          "output_type": "stream",
          "text": [
            "apples\n"
          ],
          "name": "stdout"
        },
        {
          "output_type": "execute_result",
          "data": {
            "text/plain": [
              "6"
            ]
          },
          "metadata": {
            "tags": []
          },
          "execution_count": 6
        }
      ]
    },
    {
      "cell_type": "code",
      "metadata": {
        "id": "0l9sVbZb0zi-",
        "colab_type": "code",
        "outputId": "2962738f-afaa-41aa-9608-6a54cd6891b9",
        "colab": {
          "base_uri": "https://localhost:8080/",
          "height": 34
        }
      },
      "source": [
        "#slicing by specifying start and end index\n",
        "print(val[2:5])\n"
      ],
      "execution_count": 4,
      "outputs": [
        {
          "output_type": "stream",
          "text": [
            "app\n"
          ],
          "name": "stdout"
        }
      ]
    },
    {
      "cell_type": "code",
      "metadata": {
        "id": "2XN6aL8L0zjA",
        "colab_type": "code",
        "outputId": "dc33b944-f64d-4a89-be1e-0926a5f387bc",
        "colab": {
          "base_uri": "https://localhost:8080/",
          "height": 34
        }
      },
      "source": [
        "batch = \"5 oranges 3 monkeys n\"\n",
        "fruits = batch[:-2]\n",
        "print(fruits)"
      ],
      "execution_count": 0,
      "outputs": [
        {
          "output_type": "stream",
          "text": [
            "5 oranges 3 monkeys\n"
          ],
          "name": "stdout"
        }
      ]
    },
    {
      "cell_type": "code",
      "metadata": {
        "id": "1ffvqUFR0zjD",
        "colab_type": "code",
        "outputId": "51806c75-d1ae-4d44-f7b0-9b55c16af44f",
        "colab": {
          "base_uri": "https://localhost:8080/",
          "height": 34
        }
      },
      "source": [
        "print(batch[ :3])"
      ],
      "execution_count": 0,
      "outputs": [
        {
          "output_type": "stream",
          "text": [
            "5 o\n"
          ],
          "name": "stdout"
        }
      ]
    },
    {
      "cell_type": "code",
      "metadata": {
        "id": "76j2fXHs0zjF",
        "colab_type": "code",
        "outputId": "9671be12-984c-4380-ee57-d883fec12e04",
        "colab": {
          "base_uri": "https://localhost:8080/",
          "height": 34
        }
      },
      "source": [
        "animals = batch[10:-2]\n",
        "print(animals)"
      ],
      "execution_count": 0,
      "outputs": [
        {
          "output_type": "stream",
          "text": [
            "3 monkeys\n"
          ],
          "name": "stdout"
        }
      ]
    },
    {
      "cell_type": "code",
      "metadata": {
        "id": "6kwHtSHd0zjH",
        "colab_type": "code",
        "outputId": "889963b5-a256-4fb3-d69c-f671abe2f30a",
        "colab": {
          "base_uri": "https://localhost:8080/",
          "height": 34
        }
      },
      "source": [
        "nums = '123456789'\n",
        "even_nums = nums[1::2]\n",
        "print(even_nums)"
      ],
      "execution_count": 0,
      "outputs": [
        {
          "output_type": "stream",
          "text": [
            "2468\n"
          ],
          "name": "stdout"
        }
      ]
    },
    {
      "cell_type": "code",
      "metadata": {
        "id": "e9dJ4Oo_0zjL",
        "colab_type": "code",
        "outputId": "4bbed654-0140-4f35-e259-0306996717cf",
        "colab": {
          "base_uri": "https://localhost:8080/",
          "height": 34
        }
      },
      "source": [
        "odd_nums = nums[0::2]\n",
        "print(odd_nums)"
      ],
      "execution_count": 0,
      "outputs": [
        {
          "output_type": "stream",
          "text": [
            "13579\n"
          ],
          "name": "stdout"
        }
      ]
    },
    {
      "cell_type": "code",
      "metadata": {
        "id": "ftcyiTqB0zjN",
        "colab_type": "code",
        "outputId": "08917b92-0750-4813-baa5-5bdad2104c9f",
        "colab": {
          "base_uri": "https://localhost:8080/",
          "height": 34
        }
      },
      "source": [
        "odd_nums_again = nums[ :: 2]\n",
        "print(odd_nums_again)\n"
      ],
      "execution_count": 0,
      "outputs": [
        {
          "output_type": "stream",
          "text": [
            "13579\n"
          ],
          "name": "stdout"
        }
      ]
    },
    {
      "cell_type": "code",
      "metadata": {
        "id": "z1T38J370zjQ",
        "colab_type": "code",
        "colab": {}
      },
      "source": [
        "first_name = \"Monty\"\n",
        "last_name = 'Python'"
      ],
      "execution_count": 0,
      "outputs": []
    },
    {
      "cell_type": "code",
      "metadata": {
        "id": "c0qsm0zs0zjS",
        "colab_type": "code",
        "outputId": "f34e636f-802d-49a9-85af-7499a24f7ee2",
        "colab": {
          "base_uri": "https://localhost:8080/",
          "height": 34
        }
      },
      "source": [
        "name = first_name + \" \" + last_name\n",
        "print(name)"
      ],
      "execution_count": 0,
      "outputs": [
        {
          "output_type": "stream",
          "text": [
            "Monty Python\n"
          ],
          "name": "stdout"
        }
      ]
    },
    {
      "cell_type": "code",
      "metadata": {
        "id": "jAKJgkPY0zjU",
        "colab_type": "code",
        "outputId": "23c40b2a-c824-4f7a-bbe3-e1f1154411e7",
        "colab": {
          "base_uri": "https://localhost:8080/",
          "height": 34
        }
      },
      "source": [
        "age = 30\n",
        "my_age = (\"I am \"+ str(age) + \" years old\")\n",
        "print(my_age)"
      ],
      "execution_count": 0,
      "outputs": [
        {
          "output_type": "stream",
          "text": [
            "I am 30 years old\n"
          ],
          "name": "stdout"
        }
      ]
    },
    {
      "cell_type": "code",
      "metadata": {
        "id": "w52BiFRv0zjX",
        "colab_type": "code",
        "outputId": "05666ad1-39b4-4d57-dad0-8e2c7fde871f",
        "colab": {
          "base_uri": "https://localhost:8080/",
          "height": 34
        }
      },
      "source": [
        "My_age = \"I am {0} years old {1} really \".format(age,age) \n",
        "print(My_age)"
      ],
      "execution_count": 0,
      "outputs": [
        {
          "output_type": "stream",
          "text": [
            "I am 30 years old 30 really \n"
          ],
          "name": "stdout"
        }
      ]
    },
    {
      "cell_type": "code",
      "metadata": {
        "id": "BVTUW-0z0zjc",
        "colab_type": "code",
        "outputId": "72b1e98d-ade8-4e85-881a-94d4dc145735",
        "colab": {
          "base_uri": "https://localhost:8080/",
          "height": 34
        }
      },
      "source": [
        "A = \"Data\"\n",
        "B = \"Analysis\"\n",
        "C = \"Pandas\"\n",
        "\n",
        "print(\"{0} {1} using {2}\".format(A,B,C))\n"
      ],
      "execution_count": 0,
      "outputs": [
        {
          "output_type": "stream",
          "text": [
            "Data Analysis using Pandas\n"
          ],
          "name": "stdout"
        }
      ]
    },
    {
      "cell_type": "code",
      "metadata": {
        "id": "3hSzi4lZ0zje",
        "colab_type": "code",
        "outputId": "5beac73b-6004-4d19-f9ea-23d08b5a2fc6",
        "colab": {
          "base_uri": "https://localhost:8080/",
          "height": 34
        }
      },
      "source": [
        "#concat and update\n",
        "name += ' ' + my_age\n",
        "print(name)"
      ],
      "execution_count": 0,
      "outputs": [
        {
          "output_type": "stream",
          "text": [
            "Monty Python I am 30 years old\n"
          ],
          "name": "stdout"
        }
      ]
    },
    {
      "cell_type": "code",
      "metadata": {
        "id": "5qpmlAYQHtYW",
        "colab_type": "code",
        "colab": {}
      },
      "source": [
        ""
      ],
      "execution_count": 0,
      "outputs": []
    }
  ]
}