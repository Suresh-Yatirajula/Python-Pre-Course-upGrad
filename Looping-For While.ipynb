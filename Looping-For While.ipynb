{
  "nbformat": 4,
  "nbformat_minor": 0,
  "metadata": {
    "colab": {
      "name": "Looping-For While.ipynb",
      "version": "0.3.2",
      "provenance": [],
      "include_colab_link": true
    },
    "language_info": {
      "codemirror_mode": {
        "name": "ipython",
        "version": 3
      },
      "file_extension": ".py",
      "mimetype": "text/x-python",
      "name": "python",
      "nbconvert_exporter": "python",
      "pygments_lexer": "ipython3",
      "version": "3.5.2"
    },
    "kernelspec": {
      "display_name": "Python 3",
      "language": "python",
      "name": "python3"
    }
  },
  "cells": [
    {
      "cell_type": "markdown",
      "metadata": {
        "id": "view-in-github",
        "colab_type": "text"
      },
      "source": [
        "<a href=\"https://colab.research.google.com/github/Suresh-Yatirajula/Python-Pre-Course-upGrad/blob/master/Looping-For%20While.ipynb\" target=\"_parent\"><img src=\"https://colab.research.google.com/assets/colab-badge.svg\" alt=\"Open In Colab\"/></a>"
      ]
    },
    {
      "cell_type": "code",
      "metadata": {
        "id": "7cXi_QCLUuRy",
        "colab_type": "code",
        "colab": {
          "base_uri": "https://localhost:8080/",
          "height": 84
        },
        "outputId": "889e549b-2a9d-427e-e491-471a8b4d2475"
      },
      "source": [
        "for i in range(1,5):\n",
        "    print(i)\n"
      ],
      "execution_count": 1,
      "outputs": [
        {
          "output_type": "stream",
          "text": [
            "1\n",
            "2\n",
            "3\n",
            "4\n"
          ],
          "name": "stdout"
        }
      ]
    },
    {
      "cell_type": "code",
      "metadata": {
        "id": "lpWl7wd2UuR4",
        "colab_type": "code",
        "colab": {
          "base_uri": "https://localhost:8080/",
          "height": 101
        },
        "outputId": "bf240eb6-03d8-413a-b141-26d65778dcc1"
      },
      "source": [
        "for i in range(1,10,2):\n",
        "    print(i) "
      ],
      "execution_count": 2,
      "outputs": [
        {
          "output_type": "stream",
          "text": [
            "1\n",
            "3\n",
            "5\n",
            "7\n",
            "9\n"
          ],
          "name": "stdout"
        }
      ]
    },
    {
      "cell_type": "code",
      "metadata": {
        "id": "Q692xDyVUuR7",
        "colab_type": "code",
        "colab": {
          "base_uri": "https://localhost:8080/",
          "height": 386
        },
        "outputId": "13158a6b-1745-4f01-f57c-748031119baa"
      },
      "source": [
        "#Looping on a string\n",
        "\n",
        "my_string = \"Mary had a little lamb\"\n",
        "\n",
        "for alphabet in my_string:\n",
        "    print(alphabet)\n"
      ],
      "execution_count": 3,
      "outputs": [
        {
          "output_type": "stream",
          "text": [
            "M\n",
            "a\n",
            "r\n",
            "y\n",
            " \n",
            "h\n",
            "a\n",
            "d\n",
            " \n",
            "a\n",
            " \n",
            "l\n",
            "i\n",
            "t\n",
            "t\n",
            "l\n",
            "e\n",
            " \n",
            "l\n",
            "a\n",
            "m\n",
            "b\n"
          ],
          "name": "stdout"
        }
      ]
    },
    {
      "cell_type": "code",
      "metadata": {
        "id": "RyhgHw7QUuR_",
        "colab_type": "code",
        "colab": {}
      },
      "source": [
        "#pattern to print-\n",
        "\n",
        "*\n",
        "* *\n",
        "* * *\n",
        "* * * * \n",
        "* * * * *\n",
        "* * * *\n",
        "* * *\n",
        "* *\n",
        "*\n"
      ],
      "execution_count": 0,
      "outputs": []
    },
    {
      "cell_type": "code",
      "metadata": {
        "id": "qByIbo4RUuSC",
        "colab_type": "code",
        "colab": {
          "base_uri": "https://localhost:8080/",
          "height": 168
        },
        "outputId": "c77a091b-02b7-4f24-961c-7d6d7d66a5f6"
      },
      "source": [
        "str1=''\n",
        "for i in range(0,9):\n",
        "    if i<5:\n",
        "        str1 += '* '\n",
        "        print(str1)\n",
        "    elif i>4:\n",
        "        str1 = str1[:-2]\n",
        "        print(str1)\n"
      ],
      "execution_count": 4,
      "outputs": [
        {
          "output_type": "stream",
          "text": [
            "* \n",
            "* * \n",
            "* * * \n",
            "* * * * \n",
            "* * * * * \n",
            "* * * * \n",
            "* * * \n",
            "* * \n",
            "* \n"
          ],
          "name": "stdout"
        }
      ]
    },
    {
      "cell_type": "code",
      "metadata": {
        "id": "XnLf8r-yUuSE",
        "colab_type": "code",
        "colab": {
          "base_uri": "https://localhost:8080/",
          "height": 386
        },
        "outputId": "10f498d4-b661-4c80-836b-3202b94ffd5a"
      },
      "source": [
        "my_string = \"Mary had a little lamb\"\n",
        "\n",
        "for n,alphabet in enumerate(my_string):\n",
        "    print(alphabet, n)\n"
      ],
      "execution_count": 5,
      "outputs": [
        {
          "output_type": "stream",
          "text": [
            "M 0\n",
            "a 1\n",
            "r 2\n",
            "y 3\n",
            "  4\n",
            "h 5\n",
            "a 6\n",
            "d 7\n",
            "  8\n",
            "a 9\n",
            "  10\n",
            "l 11\n",
            "i 12\n",
            "t 13\n",
            "t 14\n",
            "l 15\n",
            "e 16\n",
            "  17\n",
            "l 18\n",
            "a 19\n",
            "m 20\n",
            "b 21\n"
          ],
          "name": "stdout"
        }
      ]
    },
    {
      "cell_type": "code",
      "metadata": {
        "id": "2utrqSxzUuSH",
        "colab_type": "code",
        "colab": {
          "base_uri": "https://localhost:8080/",
          "height": 34
        },
        "outputId": "b8301f98-c9e4-415d-d13e-698945eae33f"
      },
      "source": [
        "vowels =''\n",
        "for alphabet in my_string:\n",
        "    if alphabet in 'aeiou':\n",
        "        vowels += ' ' + alphabet\n",
        "print(vowels)\n"
      ],
      "execution_count": 6,
      "outputs": [
        {
          "output_type": "stream",
          "text": [
            " a a a i e a\n"
          ],
          "name": "stdout"
        }
      ]
    },
    {
      "cell_type": "code",
      "metadata": {
        "id": "_7KOsk0nUuSK",
        "colab_type": "code",
        "colab": {
          "base_uri": "https://localhost:8080/",
          "height": 34
        },
        "outputId": "ccf6c9a7-23c9-49ca-cd99-1ea2d1b47248"
      },
      "source": [
        "nums = '838848237890237388221'\n",
        "all_even=''\n",
        "all_odd = ''\n",
        "for number in nums:\n",
        "    if int(number)%2 == 0:\n",
        "        all_even += number\n",
        "    else:\n",
        "        all_odd += number\n",
        "\n",
        "print('All Evens are : '+ all_even + ' & All odds are : '+ all_odd)\n"
      ],
      "execution_count": 7,
      "outputs": [
        {
          "output_type": "stream",
          "text": [
            "All Evens are : 8884828028822 & All odds are : 33793731\n"
          ],
          "name": "stdout"
        }
      ]
    },
    {
      "cell_type": "code",
      "metadata": {
        "id": "upXDEvDSUuSM",
        "colab_type": "code",
        "colab": {}
      },
      "source": [
        "list_of_inventories = ['Apple', 'Banana', 'Potato', 'Mango', 'Onion', 'Toothpaste']\n",
        "fruits = ['Apple','Banana','Mango','Orange','Strawberry']\n",
        "vegetables = ['Potato', 'Onion','Cucumber', 'Celery']\n"
      ],
      "execution_count": 0,
      "outputs": []
    },
    {
      "cell_type": "code",
      "metadata": {
        "id": "xmxA4Q4jUuSP",
        "colab_type": "code",
        "colab": {
          "base_uri": "https://localhost:8080/",
          "height": 151
        },
        "outputId": "60a5b28d-20dd-4ede-f862-bdd46af6747f"
      },
      "source": [
        "#count of fruits in inventory list\n",
        "count_fruits = 0\n",
        "#count of vegetables in inventory list\n",
        "count_veg = 0\n",
        "for item in list_of_inventories:\n",
        "    print(item)\n",
        "    if item in fruits:\n",
        "        count_fruits+=1\n",
        "    elif item in vegetables:\n",
        "        count_veg +=1\n",
        "    else:\n",
        "        continue\n",
        "print(count_fruits)\n",
        "print(count_veg)"
      ],
      "execution_count": 9,
      "outputs": [
        {
          "output_type": "stream",
          "text": [
            "Apple\n",
            "Banana\n",
            "Potato\n",
            "Mango\n",
            "Onion\n",
            "Toothpaste\n",
            "3\n",
            "2\n"
          ],
          "name": "stdout"
        }
      ]
    },
    {
      "cell_type": "code",
      "metadata": {
        "id": "5bTs-BI0UuSS",
        "colab_type": "code",
        "colab": {
          "base_uri": "https://localhost:8080/",
          "height": 118
        },
        "outputId": "5550470e-60dd-4b75-9323-6f3b9c89576e"
      },
      "source": [
        "sentence = \"Is Python simpler than R ?\"\n",
        "for word in sentence.split():\n",
        "    print(word)\n"
      ],
      "execution_count": 10,
      "outputs": [
        {
          "output_type": "stream",
          "text": [
            "Is\n",
            "Python\n",
            "simpler\n",
            "than\n",
            "R\n",
            "?\n"
          ],
          "name": "stdout"
        }
      ]
    },
    {
      "cell_type": "code",
      "metadata": {
        "id": "pMNqkC83UuSV",
        "colab_type": "code",
        "colab": {
          "base_uri": "https://localhost:8080/",
          "height": 50
        },
        "outputId": "b4f7f17e-a90c-40bb-ff6e-4fb4680f322a"
      },
      "source": [
        "\n",
        "#sentence check\n",
        "tweet = '#beautiful #morning it is looking good'\n",
        "\n",
        "for word in tweet.split():\n",
        "    if word.startswith('#'):\n",
        "        print(word[1:])\n"
      ],
      "execution_count": 11,
      "outputs": [
        {
          "output_type": "stream",
          "text": [
            "beautiful\n",
            "morning\n"
          ],
          "name": "stdout"
        }
      ]
    },
    {
      "cell_type": "code",
      "metadata": {
        "id": "r0vTA9LOUuSY",
        "colab_type": "code",
        "colab": {}
      },
      "source": [
        "students_data = {1:['Shivam Bansal', 24] , 2:['Udit Bansal',25], 3:['Sonam Gupta', 26], 4:['Saif Ansari',24], 5:['Huzefa Calcuttawala',27]}\n"
      ],
      "execution_count": 0,
      "outputs": []
    },
    {
      "cell_type": "code",
      "metadata": {
        "id": "aduArnhKUuSb",
        "colab_type": "code",
        "colab": {
          "base_uri": "https://localhost:8080/",
          "height": 101
        },
        "outputId": "f26ac4b1-a337-49a9-9a02-35d6e964652c"
      },
      "source": [
        "for key, val in students_data.items():\n",
        "    print(key, val)\n"
      ],
      "execution_count": 13,
      "outputs": [
        {
          "output_type": "stream",
          "text": [
            "1 ['Shivam Bansal', 24]\n",
            "2 ['Udit Bansal', 25]\n",
            "3 ['Sonam Gupta', 26]\n",
            "4 ['Saif Ansari', 24]\n",
            "5 ['Huzefa Calcuttawala', 27]\n"
          ],
          "name": "stdout"
        }
      ]
    },
    {
      "cell_type": "code",
      "metadata": {
        "id": "_hDgcLSOUuSd",
        "colab_type": "code",
        "colab": {
          "base_uri": "https://localhost:8080/",
          "height": 101
        },
        "outputId": "3789a952-ebd6-4a69-afd8-abdcb080c202"
      },
      "source": [
        "for key in students_data.keys():\n",
        "    print(key)\n"
      ],
      "execution_count": 14,
      "outputs": [
        {
          "output_type": "stream",
          "text": [
            "1\n",
            "2\n",
            "3\n",
            "4\n",
            "5\n"
          ],
          "name": "stdout"
        }
      ]
    },
    {
      "cell_type": "code",
      "metadata": {
        "id": "ix0iHLiSUuSf",
        "colab_type": "code",
        "colab": {
          "base_uri": "https://localhost:8080/",
          "height": 101
        },
        "outputId": "98ee8b9a-5f22-4fa8-9a66-2ddfbf7abf99"
      },
      "source": [
        "for val in students_data.values():\n",
        "    print(val)\n"
      ],
      "execution_count": 15,
      "outputs": [
        {
          "output_type": "stream",
          "text": [
            "['Shivam Bansal', 24]\n",
            "['Udit Bansal', 25]\n",
            "['Sonam Gupta', 26]\n",
            "['Saif Ansari', 24]\n",
            "['Huzefa Calcuttawala', 27]\n"
          ],
          "name": "stdout"
        }
      ]
    },
    {
      "cell_type": "code",
      "metadata": {
        "id": "7WBndnpJUuSi",
        "colab_type": "code",
        "colab": {
          "base_uri": "https://localhost:8080/",
          "height": 34
        },
        "outputId": "7446290c-16ed-487a-e7d0-b1803e9568d0"
      },
      "source": [
        "count = 0\n",
        "for key, val in students_data.items():\n",
        "    if val[1]<25:\n",
        "        count+=1\n",
        "\n",
        "print(count)"
      ],
      "execution_count": 16,
      "outputs": [
        {
          "output_type": "stream",
          "text": [
            "2\n"
          ],
          "name": "stdout"
        }
      ]
    },
    {
      "cell_type": "code",
      "metadata": {
        "id": "UUDmxYCaUuSk",
        "colab_type": "code",
        "colab": {
          "base_uri": "https://localhost:8080/",
          "height": 554
        },
        "outputId": "7d94c55a-efc3-468c-98c3-235ec0f489a8"
      },
      "source": [
        "#while loop\n",
        "start =20\n",
        "total= 0\n",
        "while start<51:\n",
        "    total+=start\n",
        "    start+=1\n",
        "    print(start)\n",
        "\n",
        "print(total)\n",
        "\n"
      ],
      "execution_count": 17,
      "outputs": [
        {
          "output_type": "stream",
          "text": [
            "21\n",
            "22\n",
            "23\n",
            "24\n",
            "25\n",
            "26\n",
            "27\n",
            "28\n",
            "29\n",
            "30\n",
            "31\n",
            "32\n",
            "33\n",
            "34\n",
            "35\n",
            "36\n",
            "37\n",
            "38\n",
            "39\n",
            "40\n",
            "41\n",
            "42\n",
            "43\n",
            "44\n",
            "45\n",
            "46\n",
            "47\n",
            "48\n",
            "49\n",
            "50\n",
            "51\n",
            "1085\n"
          ],
          "name": "stdout"
        }
      ]
    },
    {
      "cell_type": "code",
      "metadata": {
        "id": "kVARMy7AyuMP",
        "colab_type": "code",
        "colab": {
          "base_uri": "https://localhost:8080/",
          "height": 118
        },
        "outputId": "b2ac5472-3bf1-4819-ff53-c124e223615c"
      },
      "source": [
        "for i in range(1,6):\n",
        "    if (i % 3 == 0):\n",
        "        print(str(i) + \" is Divisible by 3\")\n",
        "        pass\n",
        "\n",
        "    print(str(i) + \" is not divisible by 3\")"
      ],
      "execution_count": 23,
      "outputs": [
        {
          "output_type": "stream",
          "text": [
            "1 is not divisible by 3\n",
            "2 is not divisible by 3\n",
            "3 is Divisible by 3\n",
            "3 is not divisible by 3\n",
            "4 is not divisible by 3\n",
            "5 is not divisible by 3\n"
          ],
          "name": "stdout"
        }
      ]
    }
  ]
}